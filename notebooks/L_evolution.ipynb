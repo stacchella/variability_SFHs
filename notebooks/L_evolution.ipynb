{
 "cells": [
  {
   "cell_type": "markdown",
   "metadata": {},
   "source": [
    "# Setup"
   ]
  },
  {
   "cell_type": "code",
   "execution_count": 1,
   "metadata": {
    "ExecuteTime": {
     "end_time": "2019-01-07T11:23:33.351906Z",
     "start_time": "2019-01-07T11:23:31.956706Z"
    },
    "collapsed": true
   },
   "outputs": [],
   "source": [
    "# import module\n",
    "import numpy as np\n",
    "from matplotlib import pyplot as plt\n",
    "import fsps\n",
    "from scipy.optimize import curve_fit\n",
    "from astropy.io import ascii\n",
    "from scipy.interpolate import interp1d\n",
    "from scipy.integrate import simps\n",
    "from astropy.table import Table\n",
    "\n"
   ]
  },
  {
   "cell_type": "code",
   "execution_count": 2,
   "metadata": {
    "ExecuteTime": {
     "end_time": "2019-01-07T11:23:33.356406Z",
     "start_time": "2019-01-07T11:23:33.353444Z"
    },
    "collapsed": true
   },
   "outputs": [],
   "source": [
    "# define working directory\n",
    "\n",
    "path_figures = '/Users/sandrotacchella/ASTRO/SFH_Variability/variability_SFHs/figures/'\n"
   ]
  },
  {
   "cell_type": "code",
   "execution_count": null,
   "metadata": {
    "collapsed": true
   },
   "outputs": [],
   "source": []
  },
  {
   "cell_type": "markdown",
   "metadata": {},
   "source": [
    "# Define Functions"
   ]
  },
  {
   "cell_type": "code",
   "execution_count": 3,
   "metadata": {
    "ExecuteTime": {
     "end_time": "2019-01-07T11:23:33.360959Z",
     "start_time": "2019-01-07T11:23:33.358116Z"
    },
    "collapsed": true
   },
   "outputs": [],
   "source": [
    "def exp_decline(t, C, tau):\n",
    "    return(C*np.exp(-1.0*t/tau))\n"
   ]
  },
  {
   "cell_type": "code",
   "execution_count": 4,
   "metadata": {
    "ExecuteTime": {
     "end_time": "2019-01-07T11:23:33.403391Z",
     "start_time": "2019-01-07T11:23:33.362386Z"
    },
    "collapsed": true
   },
   "outputs": [],
   "source": [
    "def integrate_mag(spec_lam, spectra, filter, z=None):\n",
    "    '''\n",
    "    borrowed from calc_ml\n",
    "    given a filter name and spectrum, calculate magnitude/luminosity in filter (see alt_file for filter names)\n",
    "    INPUT:\n",
    "        SPEC_LAM: must be in angstroms. this will NOT BE corrected for reddening even if redshift is specified. this\n",
    "        allows you to calculate magnitudes in rest or observed frame.\n",
    "        SPECTRA: must be in Lsun/Hz (FSPS standard). if redshift is specified, the normalization will be taken care of.\n",
    "    OUTPUT:\n",
    "        MAG: comes out as absolute magnitude\n",
    "        LUMINOSITY: comes out in erg/s\n",
    "            NOTE: if redshift is specified, INSTEAD RETURN apparent magnitude and flux [erg/s/cm^2]\n",
    "    '''\n",
    "    resp_lam = filter[0][0]\n",
    "    res = filter[1][0]\n",
    "    # physical units, in CGS\n",
    "    pc2cm = 3.08568E18\n",
    "    lsun = 3.839E33\n",
    "    c = 2.99E10\n",
    "    # interpolate filter response onto spectral lambda array\n",
    "    # when interpolating, set response outside wavelength range to be zero.\n",
    "    response_interp_function = interp1d(resp_lam, res, bounds_error=False, fill_value=0)\n",
    "    resp_interp = response_interp_function(spec_lam)\n",
    "    # integrate spectrum over filter response\n",
    "    # first calculate luminosity: convert to flambda (factor of c/lam^2, with c converted to AA/s)\n",
    "    # then integrate over flambda [Lsun/AA] to get Lsun\n",
    "    spec_flam = spectra*(c*1e8/(spec_lam**2))\n",
    "    luminosity = simps(spec_flam*resp_interp, spec_lam)\n",
    "    # now calculate luminosity density [erg/s/Hz] in filter\n",
    "    # this involves normalizing the filter response by integrating over wavelength\n",
    "    norm = simps(resp_interp/spec_lam, spec_lam)\n",
    "    luminosity_density = simps(spectra*(resp_interp/norm)/spec_lam, spec_lam)\n",
    "    # if redshift is specified, convert to flux and apparent magnitude\n",
    "    if z is not None:\n",
    "        dfactor = (cosmo.luminosity_distance(z).value*1e5)**(-2)*(1+z)\n",
    "        luminosity = luminosity*dfactor\n",
    "        luminosity_density = luminosity_density*dfactor\n",
    "    # convert luminosity density to flux density\n",
    "    # the units of the spectra are Lsun/Hz; convert to\n",
    "    # erg/s/cm^2/Hz, at 10pc for absolute mags\n",
    "    flux_density = luminosity_density*lsun/(4.0*np.pi*(pc2cm*10)**2)\n",
    "    luminosity = luminosity*lsun\n",
    "    # convert flux density to magnitudes in AB system\n",
    "    mag = -2.5*np.log10(flux_density)-48.60\n",
    "    #print 'maggies: {0}'.format(10**(-0.4*mag)*1e10)\n",
    "    return mag, luminosity\n",
    "\n",
    "\n",
    "def return_lir(lam, spec, z=None):\n",
    "    \"\"\" returns IR luminosity (8-1000 microns) in erg/s\n",
    "    input spectrum must be Lsun/Hz, wavelength in \\AA\n",
    "    \"\"\"\n",
    "    botlam = np.atleast_1d(8e4-1)\n",
    "    toplam = np.atleast_1d(1000e4+1)\n",
    "    edgetrans = np.atleast_1d(0)\n",
    "    lir_filter = [[np.concatenate((botlam, np.linspace(8e4, 1000e4, num=100), toplam))],\n",
    "                  [np.concatenate((edgetrans, np.ones(100), edgetrans))]]\n",
    "    # calculate integral\n",
    "    _, lir = integrate_mag(lam, spec, lir_filter, z=z)  # comes out in ergs/s\n",
    "    return lir\n",
    "\n",
    "\n",
    "def return_luv(lam, spec, z=None):\n",
    "    \"\"\" returns UV luminosity (1216-3000 \\AA) in erg/s\n",
    "    input spectrum must be Lsun/Hz, wavelength in \\AA\n",
    "    \"\"\"\n",
    "    botlam = np.atleast_1d(1216)\n",
    "    toplam = np.atleast_1d(3000)\n",
    "    edgetrans = np.atleast_1d(0)\n",
    "    luv_filter = [[np.concatenate((botlam-1, np.linspace(botlam, toplam, num=100), toplam+1))],\n",
    "                  [np.concatenate((edgetrans, np.ones(100), edgetrans))]]\n",
    "    # calculate integral\n",
    "    _, luv = integrate_mag(lam, spec, luv_filter, z=z)  # comes out in ergs/s\n",
    "    return luv"
   ]
  },
  {
   "cell_type": "code",
   "execution_count": null,
   "metadata": {
    "collapsed": true
   },
   "outputs": [],
   "source": []
  },
  {
   "cell_type": "code",
   "execution_count": null,
   "metadata": {
    "collapsed": true
   },
   "outputs": [],
   "source": []
  },
  {
   "cell_type": "markdown",
   "metadata": {
    "collapsed": true
   },
   "source": [
    "# SSP "
   ]
  },
  {
   "cell_type": "code",
   "execution_count": 5,
   "metadata": {
    "ExecuteTime": {
     "end_time": "2019-01-07T11:23:48.164263Z",
     "start_time": "2019-01-07T11:23:33.404692Z"
    },
    "collapsed": true
   },
   "outputs": [],
   "source": [
    "# set up fsps \n",
    "sp = fsps.StellarPopulation(compute_vega_mags=False, zcontinuous=1, imf_type=1, add_neb_emission=True,\n",
    "                                sfh=0, logzsol=0.0, dust_type=1, dust2=0.5)\n"
   ]
  },
  {
   "cell_type": "code",
   "execution_count": 6,
   "metadata": {
    "ExecuteTime": {
     "end_time": "2019-01-07T11:23:48.171558Z",
     "start_time": "2019-01-07T11:23:48.165926Z"
    },
    "collapsed": true
   },
   "outputs": [],
   "source": [
    "# define filters\n",
    "filters = ['i1500', 'i2800', 'sdss_u', 'sdss_g', 'sdss_i', 'sdss_r', 'sdss_z', 'wise_w3']\n",
    "filters_names = ['FUV', 'NUV', 'sdss_u', 'sdss_g', 'sdss_i', 'sdss_r', 'sdss_z', 'W3']\n",
    "\n",
    "idx_Halpha = (np.abs(sp.emline_wavelengths-6564.61)).argmin()\n",
    "idx_HeII = (np.abs(sp.emline_wavelengths-1640.420)).argmin()\n"
   ]
  },
  {
   "cell_type": "code",
   "execution_count": 7,
   "metadata": {
    "ExecuteTime": {
     "end_time": "2019-01-07T11:23:48.182767Z",
     "start_time": "2019-01-07T11:23:48.173230Z"
    },
    "collapsed": false
   },
   "outputs": [
    {
     "name": "stdout",
     "output_type": "stream",
     "text": [
      "[1.00000000e-04 1.02523080e-04 1.05109819e-04 1.07761823e-04\n",
      " 1.10480740e-04 1.13268257e-04 1.16126105e-04 1.19056059e-04\n",
      " 1.22059938e-04 1.25139608e-04 1.28296980e-04 1.31534015e-04\n",
      " 1.34852723e-04 1.38255164e-04 1.41743452e-04 1.45319752e-04\n",
      " 1.48986286e-04 1.52745328e-04 1.56599214e-04 1.60550337e-04\n",
      " 1.64601150e-04 1.68754168e-04 1.73011970e-04 1.77377200e-04\n",
      " 1.81852568e-04 1.86440853e-04 1.91144905e-04 1.95967643e-04\n",
      " 2.00912063e-04 2.05981234e-04 2.11178304e-04 2.16506501e-04\n",
      " 2.21969133e-04 2.27569591e-04 2.33311353e-04 2.39197984e-04\n",
      " 2.45233140e-04 2.51420567e-04 2.57764108e-04 2.64267702e-04\n",
      " 2.70935387e-04 2.77771302e-04 2.84779693e-04 2.91964912e-04\n",
      " 2.99331419e-04 3.06883789e-04 3.14626712e-04 3.22564994e-04\n",
      " 3.30703566e-04 3.39047480e-04 3.47601918e-04 3.56372191e-04\n",
      " 3.65363746e-04 3.74582164e-04 3.84033170e-04 3.93722633e-04\n",
      " 4.03656569e-04 4.13841145e-04 4.24282687e-04 4.34987677e-04\n",
      " 4.45962763e-04 4.57214758e-04 4.68750651e-04 4.80577603e-04\n",
      " 4.92702959e-04 5.05134247e-04 5.17879186e-04 5.30945691e-04\n",
      " 5.44341873e-04 5.58076052e-04 5.72156756e-04 5.86592726e-04\n",
      " 6.01392928e-04 6.16566550e-04 6.32123015e-04 6.48071983e-04\n",
      " 6.64423355e-04 6.81187285e-04 6.98374183e-04 7.15994720e-04\n",
      " 7.34059837e-04 7.52580751e-04 7.71568963e-04 7.91036263e-04\n",
      " 8.10994737e-04 8.31456781e-04 8.52435097e-04 8.73942714e-04\n",
      " 8.95992985e-04 9.18599601e-04 9.41776601e-04 9.65538374e-04\n",
      " 9.89899677e-04 1.01487563e-03 1.04048175e-03 1.06673394e-03\n",
      " 1.09364848e-03 1.12124211e-03 1.14953194e-03 1.17853554e-03\n",
      " 1.20827094e-03 1.23875657e-03 1.27001139e-03 1.30205479e-03\n",
      " 1.33490667e-03 1.36858742e-03 1.40311798e-03 1.43851976e-03\n",
      " 1.47481476e-03 1.51202551e-03 1.55017512e-03 1.58928727e-03\n",
      " 1.62938625e-03 1.67049697e-03 1.71264494e-03 1.75585633e-03\n",
      " 1.80015799e-03 1.84557740e-03 1.89214279e-03 1.93988306e-03\n",
      " 1.98882786e-03 2.03900757e-03 2.09045335e-03 2.14319716e-03\n",
      " 2.19727173e-03 2.25271064e-03 2.30954833e-03 2.36782007e-03\n",
      " 2.42756206e-03 2.48881138e-03 2.55160607e-03 2.61598513e-03\n",
      " 2.68198852e-03 2.74965722e-03 2.81903326e-03 2.89015972e-03\n",
      " 2.96308075e-03 3.03784164e-03 3.11448880e-03 3.19306983e-03\n",
      " 3.27363353e-03 3.35622991e-03 3.44091026e-03 3.52772717e-03\n",
      " 3.61673454e-03 3.70798763e-03 3.80154311e-03 3.89745907e-03\n",
      " 3.99579507e-03 4.09661216e-03 4.19997295e-03 4.30594161e-03\n",
      " 4.41458395e-03 4.52596741e-03 4.64016118e-03 4.75723614e-03\n",
      " 4.87726500e-03 5.00032228e-03 5.12648439e-03 5.25582967e-03\n",
      " 5.38843844e-03 5.52439304e-03 5.66377787e-03 5.80667950e-03\n",
      " 5.95318665e-03 6.10339029e-03 6.25738369e-03 6.41526246e-03\n",
      " 6.57712464e-03 6.74307073e-03 6.91320378e-03 7.08762942e-03\n",
      " 7.26645595e-03 7.44979442e-03 7.63775867e-03 7.83046540e-03\n",
      " 8.02803428e-03 8.23058798e-03 8.43825227e-03 8.65115610e-03\n",
      " 8.86943166e-03 9.09321448e-03 9.32264352e-03 9.55786125e-03\n",
      " 9.79901370e-03 1.00462506e-02 1.02997255e-02 1.05595958e-02\n",
      " 1.08260228e-02 1.10991720e-02 1.13792129e-02 1.16663195e-02\n",
      " 1.19606701e-02 1.22624473e-02 1.25718386e-02 1.28890361e-02\n",
      " 1.32142368e-02 1.35476425e-02 1.38894603e-02 1.42399024e-02\n",
      " 1.45991865e-02 1.49675356e-02 1.53451785e-02 1.57323495e-02\n",
      " 1.61292893e-02 1.65362441e-02 1.69534667e-02 1.73812161e-02\n",
      " 1.78197581e-02 1.82693648e-02 1.87303154e-02 1.92028962e-02\n",
      " 1.96874005e-02 2.01841293e-02 2.06933910e-02 2.12155017e-02\n",
      " 2.17507857e-02 2.22995754e-02 2.28622114e-02 2.34390432e-02\n",
      " 2.40304289e-02 2.46367358e-02 2.52583403e-02 2.58956283e-02\n",
      " 2.65489956e-02 2.72188479e-02 2.79056012e-02 2.86096817e-02\n",
      " 2.93315268e-02 3.00715845e-02 3.08303146e-02 3.16081880e-02\n",
      " 3.24056877e-02 3.32233090e-02 3.40615596e-02 3.49209598e-02\n",
      " 3.58020435e-02 3.67053575e-02 3.76314630e-02 3.85809347e-02\n",
      " 3.95543624e-02 4.05523505e-02 4.15755186e-02 4.26245021e-02\n",
      " 4.36999522e-02 4.48025368e-02 4.59329405e-02 4.70918652e-02\n",
      " 4.82800304e-02 4.94981740e-02 5.07470524e-02 5.20274409e-02\n",
      " 5.33401347e-02 5.46859488e-02 5.60657188e-02 5.74803016e-02\n",
      " 5.89305754e-02 6.04174407e-02 6.19418209e-02 6.35046623e-02\n",
      " 6.51069356e-02 6.67496354e-02 6.84337819e-02 7.01604207e-02\n",
      " 7.19306240e-02 7.37454909e-02 7.56061484e-02 7.75137517e-02\n",
      " 7.94694854e-02 8.14745638e-02 8.35302320e-02 8.56377662e-02\n",
      " 8.77984753e-02 9.00137007e-02 9.22848181e-02 9.46132376e-02\n",
      " 9.70004049e-02 9.94478024e-02 1.01956950e-01 1.04529405e-01\n",
      " 1.07166765e-01 1.09870668e-01 1.12642792e-01 1.15484859e-01\n",
      " 1.18398634e-01 1.21385926e-01 1.24448590e-01 1.27588527e-01\n",
      " 1.30807687e-01 1.34108069e-01 1.37491723e-01 1.40960748e-01\n",
      " 1.44517300e-01 1.48163587e-01 1.51901872e-01 1.55734477e-01\n",
      " 1.59663782e-01 1.63692227e-01 1.67822312e-01 1.72056602e-01\n",
      " 1.76397728e-01 1.80848383e-01 1.85411331e-01 1.90089407e-01\n",
      " 1.94885514e-01 1.99802631e-01 2.04843810e-01 2.10012183e-01\n",
      " 2.15310957e-01 2.20743424e-01 2.26312957e-01 2.32023013e-01\n",
      " 2.37877138e-01 2.43878968e-01 2.50032229e-01 2.56340741e-01\n",
      " 2.62808422e-01 2.69439288e-01 2.76237456e-01 2.83207147e-01\n",
      " 2.90352688e-01 2.97678518e-01 3.05189184e-01 3.12889350e-01\n",
      " 3.20783798e-01 3.28877429e-01 3.37175268e-01 3.45682469e-01\n",
      " 3.54404313e-01 3.63346216e-01 3.72513730e-01 3.81912548e-01\n",
      " 3.91548506e-01 4.01427587e-01 4.11555924e-01 4.21939808e-01\n",
      " 4.32585685e-01 4.43500167e-01 4.54690029e-01 4.66162221e-01\n",
      " 4.77923865e-01 4.89982265e-01 5.02344908e-01 5.15019470e-01\n",
      " 5.28013821e-01 5.41336030e-01 5.54994369e-01 5.68997319e-01\n",
      " 5.83353575e-01 5.98072050e-01 6.13161884e-01 6.28632447e-01\n",
      " 6.44493344e-01 6.60754425e-01 6.77425785e-01 6.94517777e-01\n",
      " 7.12041014e-01 7.30006376e-01 7.48425018e-01 7.67308378e-01\n",
      " 7.86668179e-01 8.06516444e-01 8.26865496e-01 8.47727971e-01\n",
      " 8.69116823e-01 8.91045332e-01 9.13527116e-01 9.36576133e-01\n",
      " 9.60206694e-01 9.84433474e-01 1.00927151e+00 1.03473624e+00\n",
      " 1.06084346e+00 1.08760938e+00 1.11505063e+00 1.14318425e+00\n",
      " 1.17202770e+00 1.20159889e+00 1.23191619e+00 1.26299842e+00\n",
      " 1.29486487e+00 1.32753534e+00 1.36103012e+00 1.39536999e+00\n",
      " 1.43057629e+00 1.46667087e+00 1.50367614e+00 1.54161509e+00\n",
      " 1.58051126e+00 1.62038882e+00 1.66127252e+00 1.70318775e+00\n",
      " 1.74616053e+00 1.79021756e+00 1.83538617e+00 1.88169442e+00\n",
      " 1.92917107e+00 1.97784560e+00 2.02774822e+00 2.07890992e+00\n",
      " 2.13136247e+00 2.18513844e+00 2.24027123e+00 2.29679506e+00\n",
      " 2.35474502e+00 2.41415712e+00 2.47506822e+00 2.53751617e+00\n",
      " 2.60153972e+00 2.66717864e+00 2.73447368e+00 2.80346663e+00\n",
      " 2.87420032e+00 2.94671869e+00 3.02106675e+00 3.09729067e+00\n",
      " 3.17543778e+00 3.25555660e+00 3.33769689e+00 3.42190964e+00\n",
      " 3.50824714e+00 3.59676301e+00 3.68751221e+00 3.78055108e+00\n",
      " 3.87593739e+00 3.97373038e+00 4.07399076e+00 4.17678080e+00\n",
      " 4.28216430e+00 4.39020672e+00 4.50097513e+00 4.61453832e+00\n",
      " 4.73096679e+00 4.85033285e+00 4.97271062e+00 5.09817606e+00\n",
      " 5.22680711e+00 5.35868361e+00 5.49388747e+00 5.63250263e+00\n",
      " 5.77461515e+00 5.92031329e+00 6.06968751e+00 6.22283056e+00\n",
      " 6.37983753e+00 6.54080591e+00 6.70583566e+00 6.87502923e+00\n",
      " 7.04849170e+00 7.22633075e+00 7.40865683e+00 7.59558315e+00\n",
      " 7.78722576e+00 7.98370367e+00 8.18513887e+00 8.39165644e+00\n",
      " 8.60338462e+00 8.82045486e+00 9.04300197e+00 9.27116411e+00\n",
      " 9.50508296e+00 9.74490378e+00 9.99077546e+00 1.02428507e+01\n",
      " 1.05012860e+01 1.07662418e+01 1.10378826e+01 1.13163772e+01\n",
      " 1.16018984e+01 1.18946235e+01 1.21947344e+01 1.25024172e+01\n",
      " 1.28178632e+01 1.31412681e+01 1.34728327e+01 1.38127630e+01\n",
      " 1.41612700e+01 1.45185702e+01 1.48848853e+01 1.52604428e+01\n",
      " 1.56454759e+01 1.60402237e+01 1.64449313e+01 1.68598500e+01\n",
      " 1.72852375e+01 1.77213578e+01 1.81684818e+01 1.86268870e+01\n",
      " 1.90968582e+01 1.95786872e+01 2.00726730e+01 2.05791226e+01\n",
      " 2.10983502e+01 2.16306784e+01 2.21764376e+01 2.27359668e+01\n",
      " 2.33096134e+01 2.38977335e+01 2.45006923e+01 2.51188643e+01]\n",
      "[1.00000e-04 2.00000e-04 3.00000e-04 ... 2.49998e+01 2.49999e+01\n",
      " 2.50000e+01]\n"
     ]
    }
   ],
   "source": [
    "# set time bins\n",
    "\n",
    "time_ssp = np.logspace(-4.0, 1.4, num=500)\n",
    "time_save = np.linspace(0.0001, 25.0, num=250000)\n",
    "\n",
    "print time_ssp\n",
    "print time_save\n"
   ]
  },
  {
   "cell_type": "code",
   "execution_count": 8,
   "metadata": {
    "ExecuteTime": {
     "end_time": "2019-01-07T11:23:48.199078Z",
     "start_time": "2019-01-07T11:23:48.184199Z"
    },
    "collapsed": false
   },
   "outputs": [],
   "source": [
    "# compute luminosities\n",
    "\n",
    "def get_luminositiies(sp_in, time, tau_dust):\n",
    "    sp_in.params['dust2'] = tau_dust\n",
    "    L_mat_ssp = 10**-10*np.ones(len(filters)+2)\n",
    "    for ii_t in time[1:]:\n",
    "        mag_list = sp_in.get_mags(tage=ii_t, bands=filters)\n",
    "        L_list = 4*np.pi*(3.086e+19)**2*np.power(10, -0.4*(mag_list+48.6))\n",
    "        wave, spec = sp_in.get_spectrum(tage=ii_t)\n",
    "        LIR = return_lir(wave, spec, z=None)\n",
    "        L_tot = LIR + 2.2*return_luv(wave, spec, z=None)  # from total UV\n",
    "        #L_tot2 = LIR + 2.2*1.5*L_list[1]*3e8/(2800*10**-10)  # from 2800\n",
    "        L_mat_ssp = np.vstack([L_mat_ssp, np.append(np.append(L_list, [3.839*10**33*sp.emline_luminosity[idx_Halpha]]), L_tot)])\n",
    "    L_mat_ssp[0] = L_mat_ssp[1]\n",
    "    return(L_mat_ssp)\n",
    "\n",
    "\n",
    "def restructure_lum(time_in, lum_in, time_new):\n",
    "    #for ii in range(lum_in.shape[1]):\n",
    "    #    lum_in[:, ii] = lum_in[:, ii]/np.trapz(lum_in[:, ii], 10**3*time_in)\n",
    "    f = interp1d(time_in, lum_in, axis=0)\n",
    "    lum_new = f(time_new)\n",
    "    for ii in range(lum_new.shape[1]):\n",
    "        lum_new[:, ii] = lum_new[:, ii]/np.sum(lum_new[:, ii])\n",
    "    return(lum_new)\n"
   ]
  },
  {
   "cell_type": "code",
   "execution_count": 9,
   "metadata": {
    "ExecuteTime": {
     "end_time": "2019-01-07T11:26:16.433048Z",
     "start_time": "2019-01-07T11:23:48.200590Z"
    },
    "collapsed": false
   },
   "outputs": [],
   "source": [
    "# get luminosities\n",
    "\n",
    "L_mat_ssp = get_luminositiies(sp, time_ssp, 0.3)\n",
    "L_mat_ssp_muchdust = get_luminositiies(sp, time_ssp, 2.0)\n",
    "\n"
   ]
  },
  {
   "cell_type": "code",
   "execution_count": 10,
   "metadata": {
    "ExecuteTime": {
     "end_time": "2019-01-07T11:26:16.679384Z",
     "start_time": "2019-01-07T11:26:16.434712Z"
    },
    "collapsed": false
   },
   "outputs": [],
   "source": [
    "# reformat luminosities\n",
    "\n",
    "L_mat_ssp_final = restructure_lum(time_ssp, L_mat_ssp, time_save)\n",
    "L_mat_ssp_muchdust_final = restructure_lum(time_ssp, L_mat_ssp_muchdust, time_save)\n",
    "\n"
   ]
  },
  {
   "cell_type": "code",
   "execution_count": 11,
   "metadata": {
    "ExecuteTime": {
     "end_time": "2019-01-07T11:26:21.498654Z",
     "start_time": "2019-01-07T11:26:16.681053Z"
    },
    "collapsed": false
   },
   "outputs": [],
   "source": [
    "# save\n",
    "\n",
    "data = np.vstack([time_save, L_mat_ssp_final.T]).T\n",
    "\n",
    "ascii.write(data, '/Users/sandrotacchella/ASTRO/SFH_Variability/variability_SFHs/scripts/variability_tools/response_function.dat', names=np.append(np.append('time', filters_names), ['Ha', 'UV+IR']), overwrite=True)\n",
    "\n"
   ]
  },
  {
   "cell_type": "code",
   "execution_count": 12,
   "metadata": {
    "ExecuteTime": {
     "end_time": "2019-01-07T11:26:23.872632Z",
     "start_time": "2019-01-07T11:26:21.500615Z"
    },
    "collapsed": true
   },
   "outputs": [],
   "source": [
    "# read in data\n",
    "\n",
    "response_function = Table.read('/Users/sandrotacchella/ASTRO/SFH_Variability/variability_SFHs/scripts/variability_tools/response_function.dat', format='ascii')\n"
   ]
  },
  {
   "cell_type": "code",
   "execution_count": 13,
   "metadata": {
    "ExecuteTime": {
     "end_time": "2019-01-07T11:26:29.742454Z",
     "start_time": "2019-01-07T11:26:23.874254Z"
    },
    "collapsed": false
   },
   "outputs": [
    {
     "data": {
      "image/png": "[encoded data removed]",
      "text/plain": [
       "<matplotlib.figure.Figure at 0x142aad910>"
      ]
     },
     "metadata": {},
     "output_type": "display_data"
    }
   ],
   "source": [
    "# make figure\n",
    "fig, (ax1, ax2) = plt.subplots(nrows=1, ncols=2, figsize=(14.0, 5.))\n",
    "\n",
    "factor_t = 1000.0\n",
    "ax1.plot(factor_t*time_save, response_function['Ha'], '-', color='purple', alpha=1.0, label=r'$\\mathrm{H\\alpha}$')\n",
    "ax1.plot(factor_t*time_save, response_function['FUV'], '-', color='blue', alpha=1.0, label=r'$\\mathrm{FUV}$')\n",
    "ax1.plot(factor_t*time_save, response_function['NUV'], '-', color='cyan', alpha=1.0, label=r'$\\mathrm{NUV}$')\n",
    "ax1.plot(factor_t*time_save, response_function['sdss_u'], '-', color='green', alpha=1.0, label=r'$\\mathrm{u-band}$')\n",
    "ax1.plot(factor_t*time_save, response_function['sdss_g'], '-', color='orange', alpha=1.0, label=r'$\\mathrm{g-band}$')\n",
    "ax1.plot(factor_t*time_save, response_function['W3'], '-', color='brown', alpha=1.0, label=r'$\\mathrm{W3}$')\n",
    "ax1.plot(factor_t*time_save, response_function['UV+IR'], '-', color='red', alpha=1.0, label=r'$\\mathrm{UV+IR}$')\n",
    "\n",
    "ax1.set_xlim([0.0, 30])\n",
    "ax1.set_ylim([-0.0005, 0.027])\n",
    "ax1.set_xlabel(r'$\\mathrm{time}\\/\\/\\/\\/[\\mathrm{Myr}]$', fontsize=18)\n",
    "ax1.set_ylabel(r'$\\mathrm{L\\/\\//\\/\\/L_{\\rm tot}}$', fontsize=18)\n",
    "ax1.legend(frameon=False, fontsize=14)\n",
    "\n",
    "ax2.plot(np.log10(factor_t*time_save), np.cumsum(response_function['Ha']), '-', color='purple', alpha=1.0, label=r'$\\mathrm{H\\alpha}$')\n",
    "ax2.plot(np.log10(factor_t*time_save), np.cumsum(response_function['FUV']), '-', color='blue', alpha=1.0, label=r'$\\mathrm{FUV}$')\n",
    "ax2.plot(np.log10(factor_t*time_save), np.cumsum(response_function['NUV']), '-', color='cyan', alpha=1.0, label=r'$\\mathrm{NUV}$')\n",
    "ax2.plot(np.log10(factor_t*time_save), np.cumsum(response_function['sdss_u']), '-', color='green', alpha=1.0, label=r'$\\mathrm{u-band}$')\n",
    "ax2.plot(np.log10(factor_t*time_save), np.cumsum(response_function['sdss_g']), '-', color='orange', alpha=1.0, label=r'$\\mathrm{g-band}$')\n",
    "ax2.plot(np.log10(factor_t*time_save), np.cumsum(response_function['W3']), '-', color='brown', alpha=1.0, label=r'$\\mathrm{W3}$')\n",
    "ax2.plot(np.log10(factor_t*time_save), np.cumsum(response_function['UV+IR']), '-', color='red', alpha=1.0, label=r'$\\mathrm{UV+IR}$')\n",
    "\n",
    "'''\n",
    "ax2.plot(np.log10(factor_t*time_save), np.cumsum(L_mat_ssp_muchdust_final[:, 6]), '--', color='purple', alpha=1.0, label=r'$\\mathrm{H\\alpha}$')\n",
    "ax2.plot(np.log10(factor_t*time_save), np.cumsum(L_mat_ssp_muchdust_final[:, 0]), '--', color='blue', alpha=1.0, label=r'$\\mathrm{FUV}$')\n",
    "ax2.plot(np.log10(factor_t*time_save), np.cumsum(L_mat_ssp_muchdust_final[:, 1]), '--', color='cyan', alpha=1.0, label=r'$\\mathrm{NUV}$')\n",
    "ax2.plot(np.log10(factor_t*time_save), np.cumsum(L_mat_ssp_muchdust_final[:, 2]), '--', color='orange', alpha=1.0, label=r'$\\mathrm{U}$')\n",
    "'''\n",
    "\n",
    "ax2.set_xlim([-1.0, 4.2])\n",
    "ax2.set_ylim([0.0, 1.05])\n",
    "ax2.set_xlabel(r'$\\log\\/\\/\\/\\mathrm{time}\\/\\/\\/\\/[\\mathrm{Myr}]$', fontsize=18)\n",
    "ax2.set_ylabel(r'$\\mathrm{L_{\\rm tot}}(<t)\\/\\//\\/\\/\\mathrm{L_{\\rm tot}}$', fontsize=18)\n",
    "\n",
    "plt.savefig(path_figures + 'L_evo_ssp.pdf', bbox_inches='tight')\n",
    "plt.show()\n"
   ]
  },
  {
   "cell_type": "code",
   "execution_count": null,
   "metadata": {
    "collapsed": true
   },
   "outputs": [],
   "source": []
  },
  {
   "cell_type": "code",
   "execution_count": null,
   "metadata": {
    "collapsed": true
   },
   "outputs": [],
   "source": []
  }
 ],
 "metadata": {
  "kernelspec": {
   "display_name": "Python 2",
   "language": "python",
   "name": "python2"
  },
  "language_info": {
   "codemirror_mode": {
    "name": "ipython",
    "version": 2
   },
   "file_extension": ".py",
   "mimetype": "text/x-python",
   "name": "python",
   "nbconvert_exporter": "python",
   "pygments_lexer": "ipython2",
   "version": "2.7.13"
  },
  "toc": {
   "nav_menu": {},
   "number_sections": true,
   "sideBar": true,
   "skip_h1_title": false,
   "toc_cell": false,
   "toc_position": {},
   "toc_section_display": "block",
   "toc_window_display": false
  },
  "varInspector": {
   "cols": {
    "lenName": 16,
    "lenType": 16,
    "lenVar": 40
   },
   "kernels_config": {
    "python": {
     "delete_cmd_postfix": "",
     "delete_cmd_prefix": "del ",
     "library": "var_list.py",
     "varRefreshCmd": "print(var_dic_list())"
    },
    "r": {
     "delete_cmd_postfix": ") ",
     "delete_cmd_prefix": "rm(",
     "library": "var_list.r",
     "varRefreshCmd": "cat(var_dic_list()) "
    }
   },
   "types_to_exclude": [
    "module",
    "function",
    "builtin_function_or_method",
    "instance",
    "_Feature"
   ],
   "window_display": false
  }
 },
 "nbformat": 4,
 "nbformat_minor": 2
}
